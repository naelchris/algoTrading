{
 "cells": [
  {
   "cell_type": "code",
   "execution_count": 1,
   "id": "209e6d2d",
   "metadata": {},
   "outputs": [],
   "source": [
    "import MetaTrader5 as mt5\n",
    "import pandas as pd\n",
    "import numpy as np\n",
    "import warnings\n",
    "from datetime import datetime\n",
    "import ta "
   ]
  },
  {
   "cell_type": "code",
   "execution_count": 2,
   "id": "3a00fbac",
   "metadata": {},
   "outputs": [
    {
     "data": {
      "text/plain": [
       "True"
      ]
     },
     "execution_count": 2,
     "metadata": {},
     "output_type": "execute_result"
    }
   ],
   "source": [
    "mt5.initialize()"
   ]
  },
  {
   "cell_type": "code",
   "execution_count": 3,
   "id": "3aaa4f15",
   "metadata": {},
   "outputs": [
    {
     "name": "stdout",
     "output_type": "stream",
     "text": [
      "Login: 213490216\n",
      "balance:  5008.77\n",
      "Run time:  2025-05-12 17:54:12.249480\n"
     ]
    }
   ],
   "source": [
    "accInfo = mt5.account_info()\n",
    "print(\"Login:\", accInfo.login)\n",
    "print(\"balance: \", accInfo.balance)\n",
    "print(\"Run time: \", datetime.now())"
   ]
  },
  {
   "cell_type": "code",
   "execution_count": 4,
   "id": "b9063b6b",
   "metadata": {},
   "outputs": [
    {
     "data": {
      "text/plain": [
       "datetime.datetime(2025, 5, 12, 17, 54, 13, 31340)"
      ]
     },
     "execution_count": 4,
     "metadata": {},
     "output_type": "execute_result"
    }
   ],
   "source": [
    "fromDate = datetime.now()\n",
    "fromDate"
   ]
  },
  {
   "cell_type": "code",
   "execution_count": 5,
   "id": "8a1ae1bd",
   "metadata": {},
   "outputs": [],
   "source": [
    "DataBTCUSD = mt5.copy_ticks_from(\"BTCUSD\", fromDate,10, mt5.COPY_TICKS_ALL)"
   ]
  },
  {
   "cell_type": "code",
   "execution_count": 6,
   "id": "d7be97fd",
   "metadata": {},
   "outputs": [
    {
     "data": {
      "text/html": [
       "<div>\n",
       "<style scoped>\n",
       "    .dataframe tbody tr th:only-of-type {\n",
       "        vertical-align: middle;\n",
       "    }\n",
       "\n",
       "    .dataframe tbody tr th {\n",
       "        vertical-align: top;\n",
       "    }\n",
       "\n",
       "    .dataframe thead th {\n",
       "        text-align: right;\n",
       "    }\n",
       "</style>\n",
       "<table border=\"1\" class=\"dataframe\">\n",
       "  <thead>\n",
       "    <tr style=\"text-align: right;\">\n",
       "      <th></th>\n",
       "      <th>time</th>\n",
       "      <th>bid</th>\n",
       "      <th>ask</th>\n",
       "      <th>last</th>\n",
       "      <th>volume</th>\n",
       "      <th>time_msc</th>\n",
       "      <th>flags</th>\n",
       "      <th>volume_real</th>\n",
       "    </tr>\n",
       "  </thead>\n",
       "  <tbody>\n",
       "    <tr>\n",
       "      <th>0</th>\n",
       "      <td>2025-05-12 10:54:13</td>\n",
       "      <td>104483.79</td>\n",
       "      <td>104506.79</td>\n",
       "      <td>0.0</td>\n",
       "      <td>0</td>\n",
       "      <td>1747047253019</td>\n",
       "      <td>6</td>\n",
       "      <td>0.0</td>\n",
       "    </tr>\n",
       "    <tr>\n",
       "      <th>1</th>\n",
       "      <td>2025-05-12 10:54:13</td>\n",
       "      <td>104481.95</td>\n",
       "      <td>104504.95</td>\n",
       "      <td>0.0</td>\n",
       "      <td>0</td>\n",
       "      <td>1747047253119</td>\n",
       "      <td>6</td>\n",
       "      <td>0.0</td>\n",
       "    </tr>\n",
       "    <tr>\n",
       "      <th>2</th>\n",
       "      <td>2025-05-12 10:54:13</td>\n",
       "      <td>104474.24</td>\n",
       "      <td>104497.57</td>\n",
       "      <td>0.0</td>\n",
       "      <td>0</td>\n",
       "      <td>1747047253220</td>\n",
       "      <td>6</td>\n",
       "      <td>0.0</td>\n",
       "    </tr>\n",
       "    <tr>\n",
       "      <th>3</th>\n",
       "      <td>2025-05-12 10:54:13</td>\n",
       "      <td>104473.36</td>\n",
       "      <td>104497.08</td>\n",
       "      <td>0.0</td>\n",
       "      <td>0</td>\n",
       "      <td>1747047253318</td>\n",
       "      <td>6</td>\n",
       "      <td>0.0</td>\n",
       "    </tr>\n",
       "    <tr>\n",
       "      <th>4</th>\n",
       "      <td>2025-05-12 10:54:13</td>\n",
       "      <td>104468.05</td>\n",
       "      <td>104489.45</td>\n",
       "      <td>0.0</td>\n",
       "      <td>0</td>\n",
       "      <td>1747047253419</td>\n",
       "      <td>6</td>\n",
       "      <td>0.0</td>\n",
       "    </tr>\n",
       "    <tr>\n",
       "      <th>5</th>\n",
       "      <td>2025-05-12 10:54:13</td>\n",
       "      <td>104467.09</td>\n",
       "      <td>104490.09</td>\n",
       "      <td>0.0</td>\n",
       "      <td>0</td>\n",
       "      <td>1747047253520</td>\n",
       "      <td>6</td>\n",
       "      <td>0.0</td>\n",
       "    </tr>\n",
       "    <tr>\n",
       "      <th>6</th>\n",
       "      <td>2025-05-12 10:54:13</td>\n",
       "      <td>104472.15</td>\n",
       "      <td>104496.00</td>\n",
       "      <td>0.0</td>\n",
       "      <td>0</td>\n",
       "      <td>1747047253623</td>\n",
       "      <td>6</td>\n",
       "      <td>0.0</td>\n",
       "    </tr>\n",
       "    <tr>\n",
       "      <th>7</th>\n",
       "      <td>2025-05-12 10:54:13</td>\n",
       "      <td>104472.94</td>\n",
       "      <td>104496.98</td>\n",
       "      <td>0.0</td>\n",
       "      <td>0</td>\n",
       "      <td>1747047253723</td>\n",
       "      <td>6</td>\n",
       "      <td>0.0</td>\n",
       "    </tr>\n",
       "    <tr>\n",
       "      <th>8</th>\n",
       "      <td>2025-05-12 10:54:13</td>\n",
       "      <td>104477.64</td>\n",
       "      <td>104500.78</td>\n",
       "      <td>0.0</td>\n",
       "      <td>0</td>\n",
       "      <td>1747047253822</td>\n",
       "      <td>6</td>\n",
       "      <td>0.0</td>\n",
       "    </tr>\n",
       "    <tr>\n",
       "      <th>9</th>\n",
       "      <td>2025-05-12 10:54:14</td>\n",
       "      <td>104475.15</td>\n",
       "      <td>104498.15</td>\n",
       "      <td>0.0</td>\n",
       "      <td>0</td>\n",
       "      <td>1747047254023</td>\n",
       "      <td>6</td>\n",
       "      <td>0.0</td>\n",
       "    </tr>\n",
       "  </tbody>\n",
       "</table>\n",
       "</div>"
      ],
      "text/plain": [
       "                 time        bid        ask  last  volume       time_msc  \\\n",
       "0 2025-05-12 10:54:13  104483.79  104506.79   0.0       0  1747047253019   \n",
       "1 2025-05-12 10:54:13  104481.95  104504.95   0.0       0  1747047253119   \n",
       "2 2025-05-12 10:54:13  104474.24  104497.57   0.0       0  1747047253220   \n",
       "3 2025-05-12 10:54:13  104473.36  104497.08   0.0       0  1747047253318   \n",
       "4 2025-05-12 10:54:13  104468.05  104489.45   0.0       0  1747047253419   \n",
       "5 2025-05-12 10:54:13  104467.09  104490.09   0.0       0  1747047253520   \n",
       "6 2025-05-12 10:54:13  104472.15  104496.00   0.0       0  1747047253623   \n",
       "7 2025-05-12 10:54:13  104472.94  104496.98   0.0       0  1747047253723   \n",
       "8 2025-05-12 10:54:13  104477.64  104500.78   0.0       0  1747047253822   \n",
       "9 2025-05-12 10:54:14  104475.15  104498.15   0.0       0  1747047254023   \n",
       "\n",
       "   flags  volume_real  \n",
       "0      6          0.0  \n",
       "1      6          0.0  \n",
       "2      6          0.0  \n",
       "3      6          0.0  \n",
       "4      6          0.0  \n",
       "5      6          0.0  \n",
       "6      6          0.0  \n",
       "7      6          0.0  \n",
       "8      6          0.0  \n",
       "9      6          0.0  "
      ]
     },
     "execution_count": 6,
     "metadata": {},
     "output_type": "execute_result"
    }
   ],
   "source": [
    "dfBTCUSD  = pd.DataFrame(DataBTCUSD)\n",
    "dfBTCUSD[\"time\"] = pd.to_datetime(dfBTCUSD[\"time\"], unit=\"s\")\n",
    "dfBTCUSD\n"
   ]
  },
  {
   "cell_type": "code",
   "execution_count": 11,
   "id": "d17a4400",
   "metadata": {},
   "outputs": [
    {
     "name": "stdout",
     "output_type": "stream",
     "text": [
      "Requirement already satisfied: backtesting in c:\\users\\nael\\anaconda3\\envs\\myenv\\lib\\site-packages (0.4.0)\n",
      "Requirement already satisfied: numpy>=1.17.0 in c:\\users\\nael\\anaconda3\\envs\\myenv\\lib\\site-packages (from backtesting) (1.19.5)\n",
      "Requirement already satisfied: pandas!=0.25.0,>=0.25.0 in c:\\users\\nael\\anaconda3\\envs\\myenv\\lib\\site-packages (from backtesting) (1.1.5)\n",
      "Requirement already satisfied: bokeh>=1.4.0 in c:\\users\\nael\\anaconda3\\envs\\myenv\\lib\\site-packages (from backtesting) (2.3.3)\n",
      "Requirement already satisfied: tornado>=5.1 in c:\\users\\nael\\anaconda3\\envs\\myenv\\lib\\site-packages (from bokeh>=1.4.0->backtesting) (6.1)\n",
      "Requirement already satisfied: packaging>=16.8 in c:\\users\\nael\\anaconda3\\envs\\myenv\\lib\\site-packages (from bokeh>=1.4.0->backtesting) (21.3)\n",
      "Requirement already satisfied: pillow>=7.1.0 in c:\\users\\nael\\anaconda3\\envs\\myenv\\lib\\site-packages (from bokeh>=1.4.0->backtesting) (8.4.0)\n",
      "Requirement already satisfied: typing-extensions>=3.7.4 in c:\\users\\nael\\anaconda3\\envs\\myenv\\lib\\site-packages (from bokeh>=1.4.0->backtesting) (4.1.1)\n",
      "Requirement already satisfied: Jinja2>=2.9 in c:\\users\\nael\\anaconda3\\envs\\myenv\\lib\\site-packages (from bokeh>=1.4.0->backtesting) (3.0.3)\n",
      "Requirement already satisfied: python-dateutil>=2.1 in c:\\users\\nael\\anaconda3\\envs\\myenv\\lib\\site-packages (from bokeh>=1.4.0->backtesting) (2.9.0.post0)\n",
      "Requirement already satisfied: PyYAML>=3.10 in c:\\users\\nael\\anaconda3\\envs\\myenv\\lib\\site-packages (from bokeh>=1.4.0->backtesting) (6.0.1)\n",
      "Requirement already satisfied: MarkupSafe>=2.0 in c:\\users\\nael\\anaconda3\\envs\\myenv\\lib\\site-packages (from Jinja2>=2.9->bokeh>=1.4.0->backtesting) (2.0.1)\n",
      "Requirement already satisfied: pyparsing!=3.0.5,>=2.0.2 in c:\\users\\nael\\anaconda3\\envs\\myenv\\lib\\site-packages (from packaging>=16.8->bokeh>=1.4.0->backtesting) (3.1.4)\n",
      "Requirement already satisfied: pytz>=2017.2 in c:\\users\\nael\\anaconda3\\envs\\myenv\\lib\\site-packages (from pandas!=0.25.0,>=0.25.0->backtesting) (2025.2)\n",
      "Requirement already satisfied: six>=1.5 in c:\\users\\nael\\anaconda3\\envs\\myenv\\lib\\site-packages (from python-dateutil>=2.1->bokeh>=1.4.0->backtesting) (1.17.0)\n"
     ]
    }
   ],
   "source": [
    "!pip install backtesting"
   ]
  },
  {
   "cell_type": "code",
   "execution_count": 13,
   "id": "8cd0ed8e",
   "metadata": {},
   "outputs": [
    {
     "ename": "AttributeError",
     "evalue": "'functools.partial' object has no attribute '__module__'",
     "output_type": "error",
     "traceback": [
      "\u001b[1;31m---------------------------------------------------------------------------\u001b[0m",
      "\u001b[1;31mAttributeError\u001b[0m                            Traceback (most recent call last)",
      "\u001b[1;32m~\\AppData\\Local\\Temp/ipykernel_11348/3215785055.py\u001b[0m in \u001b[0;36m<module>\u001b[1;34m\u001b[0m\n\u001b[1;32m----> 1\u001b[1;33m \u001b[1;32mfrom\u001b[0m \u001b[0mbacktesting\u001b[0m \u001b[1;32mimport\u001b[0m \u001b[0mStrategy\u001b[0m\u001b[1;33m\u001b[0m\u001b[1;33m\u001b[0m\u001b[0m\n\u001b[0m",
      "\u001b[1;32m~\\anaconda3\\lib\\site-packages\\backtesting\\__init__.py\u001b[0m in \u001b[0;36m<module>\u001b[1;34m\u001b[0m\n\u001b[0;32m     66\u001b[0m     \u001b[0m__version__\u001b[0m \u001b[1;33m=\u001b[0m \u001b[1;34m'?.?.?'\u001b[0m  \u001b[1;31m# Package not installed\u001b[0m\u001b[1;33m\u001b[0m\u001b[1;33m\u001b[0m\u001b[0m\n\u001b[0;32m     67\u001b[0m \u001b[1;33m\u001b[0m\u001b[0m\n\u001b[1;32m---> 68\u001b[1;33m \u001b[1;32mfrom\u001b[0m \u001b[1;33m.\u001b[0m \u001b[1;32mimport\u001b[0m \u001b[0mlib\u001b[0m  \u001b[1;31m# noqa: F401\u001b[0m\u001b[1;33m\u001b[0m\u001b[1;33m\u001b[0m\u001b[0m\n\u001b[0m\u001b[0;32m     69\u001b[0m \u001b[1;32mfrom\u001b[0m \u001b[1;33m.\u001b[0m\u001b[0m_plotting\u001b[0m \u001b[1;32mimport\u001b[0m \u001b[0mset_bokeh_output\u001b[0m  \u001b[1;31m# noqa: F401\u001b[0m\u001b[1;33m\u001b[0m\u001b[1;33m\u001b[0m\u001b[0m\n\u001b[0;32m     70\u001b[0m \u001b[1;32mfrom\u001b[0m \u001b[1;33m.\u001b[0m\u001b[0mbacktesting\u001b[0m \u001b[1;32mimport\u001b[0m \u001b[0mBacktest\u001b[0m\u001b[1;33m,\u001b[0m \u001b[0mStrategy\u001b[0m  \u001b[1;31m# noqa: F401\u001b[0m\u001b[1;33m\u001b[0m\u001b[1;33m\u001b[0m\u001b[0m\n",
      "\u001b[1;32m~\\anaconda3\\lib\\site-packages\\backtesting\\lib.py\u001b[0m in \u001b[0;36m<module>\u001b[1;34m\u001b[0m\n\u001b[0;32m    636\u001b[0m \u001b[1;31m# NOTE: Don't put anything below this __all__ list\u001b[0m\u001b[1;33m\u001b[0m\u001b[1;33m\u001b[0m\u001b[0m\n\u001b[0;32m    637\u001b[0m \u001b[1;33m\u001b[0m\u001b[0m\n\u001b[1;32m--> 638\u001b[1;33m __all__ = [getattr(v, '__name__', k)\n\u001b[0m\u001b[0;32m    639\u001b[0m            \u001b[1;32mfor\u001b[0m \u001b[0mk\u001b[0m\u001b[1;33m,\u001b[0m \u001b[0mv\u001b[0m \u001b[1;32min\u001b[0m \u001b[0mglobals\u001b[0m\u001b[1;33m(\u001b[0m\u001b[1;33m)\u001b[0m\u001b[1;33m.\u001b[0m\u001b[0mitems\u001b[0m\u001b[1;33m(\u001b[0m\u001b[1;33m)\u001b[0m                        \u001b[1;31m# export\u001b[0m\u001b[1;33m\u001b[0m\u001b[1;33m\u001b[0m\u001b[0m\n\u001b[0;32m    640\u001b[0m            if ((callable(v) and v.__module__ == __name__ or     # callables from this module\n",
      "\u001b[1;32m~\\anaconda3\\lib\\site-packages\\backtesting\\lib.py\u001b[0m in \u001b[0;36m<listcomp>\u001b[1;34m(.0)\u001b[0m\n\u001b[0;32m    638\u001b[0m __all__ = [getattr(v, '__name__', k)\n\u001b[0;32m    639\u001b[0m            \u001b[1;32mfor\u001b[0m \u001b[0mk\u001b[0m\u001b[1;33m,\u001b[0m \u001b[0mv\u001b[0m \u001b[1;32min\u001b[0m \u001b[0mglobals\u001b[0m\u001b[1;33m(\u001b[0m\u001b[1;33m)\u001b[0m\u001b[1;33m.\u001b[0m\u001b[0mitems\u001b[0m\u001b[1;33m(\u001b[0m\u001b[1;33m)\u001b[0m                        \u001b[1;31m# export\u001b[0m\u001b[1;33m\u001b[0m\u001b[1;33m\u001b[0m\u001b[0m\n\u001b[1;32m--> 640\u001b[1;33m            if ((callable(v) and v.__module__ == __name__ or     # callables from this module\n\u001b[0m\u001b[0;32m    641\u001b[0m                 k.isupper()) and                                # or CONSTANTS\n\u001b[0;32m    642\u001b[0m                not getattr(v, '__name__', k).startswith('_'))]  # neither marked internal\n",
      "\u001b[1;31mAttributeError\u001b[0m: 'functools.partial' object has no attribute '__module__'"
     ]
    }
   ],
   "source": [
    "from backtesting import Strategy"
   ]
  },
  {
   "cell_type": "code",
   "execution_count": 14,
   "id": "2614b039",
   "metadata": {},
   "outputs": [],
   "source": [
    "def GetTickerHourlyRates(ticker, numberOfData=10000, timeFrame=mt5.TIMEFRAME_D1):\n",
    "    fromDate = datetime.now()\n",
    "\n",
    "    rates = mt5.copy_rates_from(ticker, timeFrame, fromDate, numberOfData)\n",
    "\n",
    "    dataRates = pd.DataFrame(rates)\n",
    "    dataRates['time'] = pd.to_datetime(dataRates['time'], unit=\"s\")\n",
    "\n",
    "    dataRates = dataRates.set_index(\"time\")\n",
    "\n",
    "    return dataRates\n"
   ]
  },
  {
   "cell_type": "code",
   "execution_count": null,
   "id": "67146dbb",
   "metadata": {},
   "outputs": [],
   "source": [
    "GetTickerHourlyRates('BTCUSD')"
   ]
  },
  {
   "cell_type": "code",
   "execution_count": null,
   "id": "ec763288",
   "metadata": {},
   "outputs": [],
   "source": []
  }
 ],
 "metadata": {
  "kernelspec": {
   "display_name": "Python 3 (ipykernel)",
   "language": "python",
   "name": "python3"
  },
  "language_info": {
   "codemirror_mode": {
    "name": "ipython",
    "version": 3
   },
   "file_extension": ".py",
   "mimetype": "text/x-python",
   "name": "python",
   "nbconvert_exporter": "python",
   "pygments_lexer": "ipython3",
   "version": "3.9.7"
  }
 },
 "nbformat": 4,
 "nbformat_minor": 5
}
